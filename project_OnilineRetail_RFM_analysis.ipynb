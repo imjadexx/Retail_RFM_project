{
 "cells": [
  {
   "cell_type": "markdown",
   "id": "ed0ccce2-d5c9-4ac7-a15e-4ca0a082c96e",
   "metadata": {},
   "source": [
    "# Retail RFM analysis with python"
   ]
  },
  {
   "cell_type": "markdown",
   "id": "c8645d37-2fdf-488b-82a2-44ef67217e48",
   "metadata": {
    "tags": []
   },
   "source": [
    "## 1. Intro"
   ]
  },
  {
   "cell_type": "markdown",
   "id": "449e085e-735d-4185-9a12-88fc9deea8a6",
   "metadata": {},
   "source": [
    "### 1.1 About the dataset"
   ]
  },
  {
   "cell_type": "markdown",
   "id": "a6ef3ef7-5745-43f6-9d89-3f2b1b192283",
   "metadata": {},
   "source": [
    "This Online Retail II data set contains all the transactions occurring for a UK-based and registered, non-store online retail between 01/12/2009 and 09/12/2011.\n",
    "\n",
    "Link to the dataset: https://www.kaggle.com/datasets/mashlyn/online-retail-ii-uci"
   ]
  },
  {
   "cell_type": "markdown",
   "id": "321a0899-ef64-4293-bf07-c13e8936045a",
   "metadata": {},
   "source": [
    "### 1.2 Steps of this project"
   ]
  },
  {
   "cell_type": "markdown",
   "id": "01b02360-d15f-4d33-99d6-f3d2203e8a75",
   "metadata": {
    "tags": []
   },
   "source": [
    "- Data cleaning and processing\n",
    "- Understanding features and identifing outliar with z-score\n",
    "- Building RFM metrics \n",
    "- Customer segmentation based on RFM model\n",
    "- Conclusion"
   ]
  },
  {
   "cell_type": "code",
   "execution_count": 470,
   "id": "8c1facf6-60d1-462f-b173-17660daffe93",
   "metadata": {
    "tags": []
   },
   "outputs": [],
   "source": [
    "import pandas as pd\n",
    "import numpy as np\n",
    "import datetime as dt\n",
    "pd.set_option('display.float_format',lambda x:'%.2f' % x)\n",
    "\n",
    "# Visualization\n",
    "import matplotlib.pyplot as plt\n",
    "import matplotlib.ticker as ticker\n",
    "import seaborn as sns\n",
    "plt.style.use('seaborn-v0_8-pastel')\n",
    "sns.set(style=\"whitegrid\")\n",
    "sns.set_palette(\"pastel\")\n",
    "\n",
    "# Z-Score \n",
    "from scipy import stats"
   ]
  },
  {
   "cell_type": "code",
   "execution_count": 152,
   "id": "2578df9a-4c5f-4e5d-805a-f566a10ad4f5",
   "metadata": {
    "tags": []
   },
   "outputs": [],
   "source": [
    "df = pd.read_csv('online_retail_II.csv')"
   ]
  },
  {
   "cell_type": "markdown",
   "id": "f95db6e2-4489-4450-82ad-c365826d98a8",
   "metadata": {
    "tags": []
   },
   "source": [
    "## 2. Data Processing"
   ]
  },
  {
   "cell_type": "code",
   "execution_count": 6,
   "id": "abdf738e-1f16-4dc7-9f3d-55ecec27312c",
   "metadata": {
    "tags": []
   },
   "outputs": [
    {
     "data": {
      "text/plain": [
       "(1067371, 8)"
      ]
     },
     "execution_count": 6,
     "metadata": {},
     "output_type": "execute_result"
    }
   ],
   "source": [
    "df.shape"
   ]
  },
  {
   "cell_type": "code",
   "execution_count": 144,
   "id": "427c4dbc-a8f1-49ac-a08e-d12ce3354d60",
   "metadata": {
    "tags": []
   },
   "outputs": [
    {
     "data": {
      "text/html": [
       "<div>\n",
       "<style scoped>\n",
       "    .dataframe tbody tr th:only-of-type {\n",
       "        vertical-align: middle;\n",
       "    }\n",
       "\n",
       "    .dataframe tbody tr th {\n",
       "        vertical-align: top;\n",
       "    }\n",
       "\n",
       "    .dataframe thead th {\n",
       "        text-align: right;\n",
       "    }\n",
       "</style>\n",
       "<table border=\"1\" class=\"dataframe\">\n",
       "  <thead>\n",
       "    <tr style=\"text-align: right;\">\n",
       "      <th></th>\n",
       "      <th>Invoice</th>\n",
       "      <th>StockCode</th>\n",
       "      <th>Description</th>\n",
       "      <th>Quantity</th>\n",
       "      <th>InvoiceDate</th>\n",
       "      <th>Price</th>\n",
       "      <th>Customer ID</th>\n",
       "      <th>Country</th>\n",
       "    </tr>\n",
       "  </thead>\n",
       "  <tbody>\n",
       "    <tr>\n",
       "      <th>0</th>\n",
       "      <td>489434</td>\n",
       "      <td>85048</td>\n",
       "      <td>15CM CHRISTMAS GLASS BALL 20 LIGHTS</td>\n",
       "      <td>12</td>\n",
       "      <td>2009-12-01 07:45:00</td>\n",
       "      <td>6.95</td>\n",
       "      <td>13085.0</td>\n",
       "      <td>United Kingdom</td>\n",
       "    </tr>\n",
       "    <tr>\n",
       "      <th>1</th>\n",
       "      <td>489434</td>\n",
       "      <td>79323P</td>\n",
       "      <td>PINK CHERRY LIGHTS</td>\n",
       "      <td>12</td>\n",
       "      <td>2009-12-01 07:45:00</td>\n",
       "      <td>6.75</td>\n",
       "      <td>13085.0</td>\n",
       "      <td>United Kingdom</td>\n",
       "    </tr>\n",
       "    <tr>\n",
       "      <th>2</th>\n",
       "      <td>489434</td>\n",
       "      <td>79323W</td>\n",
       "      <td>WHITE CHERRY LIGHTS</td>\n",
       "      <td>12</td>\n",
       "      <td>2009-12-01 07:45:00</td>\n",
       "      <td>6.75</td>\n",
       "      <td>13085.0</td>\n",
       "      <td>United Kingdom</td>\n",
       "    </tr>\n",
       "    <tr>\n",
       "      <th>3</th>\n",
       "      <td>489434</td>\n",
       "      <td>22041</td>\n",
       "      <td>RECORD FRAME 7\" SINGLE SIZE</td>\n",
       "      <td>48</td>\n",
       "      <td>2009-12-01 07:45:00</td>\n",
       "      <td>2.10</td>\n",
       "      <td>13085.0</td>\n",
       "      <td>United Kingdom</td>\n",
       "    </tr>\n",
       "    <tr>\n",
       "      <th>4</th>\n",
       "      <td>489434</td>\n",
       "      <td>21232</td>\n",
       "      <td>STRAWBERRY CERAMIC TRINKET BOX</td>\n",
       "      <td>24</td>\n",
       "      <td>2009-12-01 07:45:00</td>\n",
       "      <td>1.25</td>\n",
       "      <td>13085.0</td>\n",
       "      <td>United Kingdom</td>\n",
       "    </tr>\n",
       "  </tbody>\n",
       "</table>\n",
       "</div>"
      ],
      "text/plain": [
       "  Invoice StockCode                          Description  Quantity  \\\n",
       "0  489434     85048  15CM CHRISTMAS GLASS BALL 20 LIGHTS        12   \n",
       "1  489434    79323P                   PINK CHERRY LIGHTS        12   \n",
       "2  489434    79323W                  WHITE CHERRY LIGHTS        12   \n",
       "3  489434     22041         RECORD FRAME 7\" SINGLE SIZE         48   \n",
       "4  489434     21232       STRAWBERRY CERAMIC TRINKET BOX        24   \n",
       "\n",
       "           InvoiceDate  Price  Customer ID         Country  \n",
       "0  2009-12-01 07:45:00   6.95      13085.0  United Kingdom  \n",
       "1  2009-12-01 07:45:00   6.75      13085.0  United Kingdom  \n",
       "2  2009-12-01 07:45:00   6.75      13085.0  United Kingdom  \n",
       "3  2009-12-01 07:45:00   2.10      13085.0  United Kingdom  \n",
       "4  2009-12-01 07:45:00   1.25      13085.0  United Kingdom  "
      ]
     },
     "execution_count": 144,
     "metadata": {},
     "output_type": "execute_result"
    }
   ],
   "source": [
    "df.head()"
   ]
  },
  {
   "cell_type": "markdown",
   "id": "fd2a233d-327c-4d3d-9d9b-05667430d0f0",
   "metadata": {},
   "source": [
    "### Checking for empty values"
   ]
  },
  {
   "cell_type": "code",
   "execution_count": 155,
   "id": "7f14f83b-e7c3-4017-af16-46a9bcea0e8f",
   "metadata": {
    "tags": []
   },
   "outputs": [
    {
     "data": {
      "text/plain": [
       "Invoice             0\n",
       "StockCode           0\n",
       "Description      4382\n",
       "Quantity            0\n",
       "InvoiceDate         0\n",
       "Price               0\n",
       "Customer ID    243007\n",
       "Country             0\n",
       "dtype: int64"
      ]
     },
     "execution_count": 155,
     "metadata": {},
     "output_type": "execute_result"
    }
   ],
   "source": [
    "df.isna().sum()"
   ]
  },
  {
   "cell_type": "code",
   "execution_count": 291,
   "id": "f3c58c17-a282-4f2e-8eac-d7c5a697aa22",
   "metadata": {
    "tags": []
   },
   "outputs": [
    {
     "data": {
      "text/html": [
       "<div>\n",
       "<style scoped>\n",
       "    .dataframe tbody tr th:only-of-type {\n",
       "        vertical-align: middle;\n",
       "    }\n",
       "\n",
       "    .dataframe tbody tr th {\n",
       "        vertical-align: top;\n",
       "    }\n",
       "\n",
       "    .dataframe thead th {\n",
       "        text-align: right;\n",
       "    }\n",
       "</style>\n",
       "<table border=\"1\" class=\"dataframe\">\n",
       "  <thead>\n",
       "    <tr style=\"text-align: right;\">\n",
       "      <th></th>\n",
       "      <th>Invoice</th>\n",
       "      <th>StockCode</th>\n",
       "      <th>Description</th>\n",
       "      <th>Quantity</th>\n",
       "      <th>InvoiceDate</th>\n",
       "      <th>Price</th>\n",
       "      <th>Customer ID</th>\n",
       "      <th>Country</th>\n",
       "      <th>Sales</th>\n",
       "    </tr>\n",
       "  </thead>\n",
       "  <tbody>\n",
       "  </tbody>\n",
       "</table>\n",
       "</div>"
      ],
      "text/plain": [
       "Empty DataFrame\n",
       "Columns: [Invoice, StockCode, Description, Quantity, InvoiceDate, Price, Customer ID, Country, Sales]\n",
       "Index: []"
      ]
     },
     "execution_count": 291,
     "metadata": {},
     "output_type": "execute_result"
    }
   ],
   "source": [
    "df[df.isna().any(axis=1)]"
   ]
  },
  {
   "cell_type": "code",
   "execution_count": 158,
   "id": "7566dfea-b0cb-496c-8e4b-10592322eb97",
   "metadata": {
    "tags": []
   },
   "outputs": [],
   "source": [
    "df.dropna(inplace=True)"
   ]
  },
  {
   "cell_type": "code",
   "execution_count": 166,
   "id": "2efc1fdb-cbf3-4968-8f3e-88bc50d63d0f",
   "metadata": {
    "tags": []
   },
   "outputs": [
    {
     "data": {
      "text/plain": [
       "2011-11-14 15:27:00    543\n",
       "2011-11-28 15:54:00    534\n",
       "2011-12-05 17:17:00    530\n",
       "2011-11-23 13:39:00    444\n",
       "2011-10-31 14:09:00    436\n",
       "                      ... \n",
       "2011-01-17 15:05:00      1\n",
       "2011-09-01 11:56:00      1\n",
       "2010-08-20 14:54:00      1\n",
       "2011-01-17 15:31:00      1\n",
       "2010-05-28 11:50:00      1\n",
       "Name: InvoiceDate, Length: 41439, dtype: int64"
      ]
     },
     "execution_count": 166,
     "metadata": {},
     "output_type": "execute_result"
    }
   ],
   "source": [
    "df.InvoiceDate.sort_values().value_counts()"
   ]
  },
  {
   "cell_type": "markdown",
   "id": "1616f99b-1e96-4600-b5a6-a1947b3dd68a",
   "metadata": {},
   "source": [
    "### Checking duplicates"
   ]
  },
  {
   "cell_type": "code",
   "execution_count": 160,
   "id": "89241437-3a51-42a0-85e1-06cc439c1252",
   "metadata": {
    "tags": []
   },
   "outputs": [
    {
     "data": {
      "text/plain": [
       "26479"
      ]
     },
     "execution_count": 160,
     "metadata": {},
     "output_type": "execute_result"
    }
   ],
   "source": [
    "df.duplicated().sum()"
   ]
  },
  {
   "cell_type": "code",
   "execution_count": 164,
   "id": "881f86ad-24a8-4422-bd18-3d91dc769356",
   "metadata": {
    "tags": []
   },
   "outputs": [],
   "source": [
    "df.drop_duplicates(inplace=True)"
   ]
  },
  {
   "cell_type": "markdown",
   "id": "19737f43-531a-4305-bccb-e09bc7f947c6",
   "metadata": {
    "tags": []
   },
   "source": [
    "### Removing negative values"
   ]
  },
  {
   "cell_type": "code",
   "execution_count": 170,
   "id": "59b344f3-d983-4a72-9f02-92f236ee8773",
   "metadata": {
    "tags": []
   },
   "outputs": [
    {
     "data": {
      "text/html": [
       "<div>\n",
       "<style scoped>\n",
       "    .dataframe tbody tr th:only-of-type {\n",
       "        vertical-align: middle;\n",
       "    }\n",
       "\n",
       "    .dataframe tbody tr th {\n",
       "        vertical-align: top;\n",
       "    }\n",
       "\n",
       "    .dataframe thead th {\n",
       "        text-align: right;\n",
       "    }\n",
       "</style>\n",
       "<table border=\"1\" class=\"dataframe\">\n",
       "  <thead>\n",
       "    <tr style=\"text-align: right;\">\n",
       "      <th></th>\n",
       "      <th>Quantity</th>\n",
       "      <th>Price</th>\n",
       "    </tr>\n",
       "  </thead>\n",
       "  <tbody>\n",
       "    <tr>\n",
       "      <th>count</th>\n",
       "      <td>797885.000000</td>\n",
       "      <td>797885.000000</td>\n",
       "    </tr>\n",
       "    <tr>\n",
       "      <th>mean</th>\n",
       "      <td>12.602980</td>\n",
       "      <td>3.702732</td>\n",
       "    </tr>\n",
       "    <tr>\n",
       "      <th>std</th>\n",
       "      <td>191.670371</td>\n",
       "      <td>71.392549</td>\n",
       "    </tr>\n",
       "    <tr>\n",
       "      <th>min</th>\n",
       "      <td>-80995.000000</td>\n",
       "      <td>0.000000</td>\n",
       "    </tr>\n",
       "    <tr>\n",
       "      <th>25%</th>\n",
       "      <td>2.000000</td>\n",
       "      <td>1.250000</td>\n",
       "    </tr>\n",
       "    <tr>\n",
       "      <th>50%</th>\n",
       "      <td>5.000000</td>\n",
       "      <td>1.950000</td>\n",
       "    </tr>\n",
       "    <tr>\n",
       "      <th>75%</th>\n",
       "      <td>12.000000</td>\n",
       "      <td>3.750000</td>\n",
       "    </tr>\n",
       "    <tr>\n",
       "      <th>max</th>\n",
       "      <td>80995.000000</td>\n",
       "      <td>38970.000000</td>\n",
       "    </tr>\n",
       "  </tbody>\n",
       "</table>\n",
       "</div>"
      ],
      "text/plain": [
       "            Quantity          Price\n",
       "count  797885.000000  797885.000000\n",
       "mean       12.602980       3.702732\n",
       "std       191.670371      71.392549\n",
       "min    -80995.000000       0.000000\n",
       "25%         2.000000       1.250000\n",
       "50%         5.000000       1.950000\n",
       "75%        12.000000       3.750000\n",
       "max     80995.000000   38970.000000"
      ]
     },
     "execution_count": 170,
     "metadata": {},
     "output_type": "execute_result"
    }
   ],
   "source": [
    "df.describe()"
   ]
  },
  {
   "cell_type": "code",
   "execution_count": 194,
   "id": "c3d60faf-d2aa-4e6f-bec9-615b94a813da",
   "metadata": {
    "tags": []
   },
   "outputs": [
    {
     "data": {
      "text/html": [
       "<div>\n",
       "<style scoped>\n",
       "    .dataframe tbody tr th:only-of-type {\n",
       "        vertical-align: middle;\n",
       "    }\n",
       "\n",
       "    .dataframe tbody tr th {\n",
       "        vertical-align: top;\n",
       "    }\n",
       "\n",
       "    .dataframe thead th {\n",
       "        text-align: right;\n",
       "    }\n",
       "</style>\n",
       "<table border=\"1\" class=\"dataframe\">\n",
       "  <thead>\n",
       "    <tr style=\"text-align: right;\">\n",
       "      <th></th>\n",
       "      <th>Invoice</th>\n",
       "      <th>StockCode</th>\n",
       "      <th>Description</th>\n",
       "      <th>Quantity</th>\n",
       "      <th>InvoiceDate</th>\n",
       "      <th>Price</th>\n",
       "      <th>Customer ID</th>\n",
       "      <th>Country</th>\n",
       "    </tr>\n",
       "  </thead>\n",
       "  <tbody>\n",
       "  </tbody>\n",
       "</table>\n",
       "</div>"
      ],
      "text/plain": [
       "Empty DataFrame\n",
       "Columns: [Invoice, StockCode, Description, Quantity, InvoiceDate, Price, Customer ID, Country]\n",
       "Index: []"
      ]
     },
     "execution_count": 194,
     "metadata": {},
     "output_type": "execute_result"
    }
   ],
   "source": [
    "df.query('Quantity <= 0')"
   ]
  },
  {
   "cell_type": "markdown",
   "id": "5380d4ee-3c66-4857-afa1-ce51e50eaf9f",
   "metadata": {},
   "source": [
    "It can be observed there are negative values in quantity and zero values in price column. For negative quantity it could be refund orders, we will remove this part as well as rows with 0 price"
   ]
  },
  {
   "cell_type": "code",
   "execution_count": 181,
   "id": "39809e02-edf8-49bf-83cf-f430145d211c",
   "metadata": {
    "tags": []
   },
   "outputs": [],
   "source": [
    "df = df.drop(df[(df['Quantity'] <= 0) | (df['Price'] == 0)].index)"
   ]
  },
  {
   "cell_type": "markdown",
   "id": "1a9786d7-0ac5-4d70-92e8-f87a8460537d",
   "metadata": {},
   "source": [
    "### Change Data format"
   ]
  },
  {
   "cell_type": "code",
   "execution_count": null,
   "id": "5b568f31-2560-4faa-b076-2eadd19dfa92",
   "metadata": {},
   "outputs": [],
   "source": [
    "data.dtypes"
   ]
  },
  {
   "cell_type": "code",
   "execution_count": 168,
   "id": "84d7c1df-1120-49b7-933a-68aaab240e8c",
   "metadata": {
    "tags": []
   },
   "outputs": [],
   "source": [
    "df['InvoiceDate'] = pd.to_datetime(df['InvoiceDate'])\n",
    "df['Customer ID'] = df['Customer ID'].map(str)"
   ]
  },
  {
   "cell_type": "markdown",
   "id": "4dda8970-3d19-4068-91a9-c4767b88320a",
   "metadata": {},
   "source": [
    "### Enriching data"
   ]
  },
  {
   "cell_type": "code",
   "execution_count": 198,
   "id": "81786c66-c827-4c28-805c-60df7dbae979",
   "metadata": {
    "tags": []
   },
   "outputs": [
    {
     "data": {
      "text/html": [
       "<div>\n",
       "<style scoped>\n",
       "    .dataframe tbody tr th:only-of-type {\n",
       "        vertical-align: middle;\n",
       "    }\n",
       "\n",
       "    .dataframe tbody tr th {\n",
       "        vertical-align: top;\n",
       "    }\n",
       "\n",
       "    .dataframe thead th {\n",
       "        text-align: right;\n",
       "    }\n",
       "</style>\n",
       "<table border=\"1\" class=\"dataframe\">\n",
       "  <thead>\n",
       "    <tr style=\"text-align: right;\">\n",
       "      <th></th>\n",
       "      <th>Invoice</th>\n",
       "      <th>StockCode</th>\n",
       "      <th>Description</th>\n",
       "      <th>Quantity</th>\n",
       "      <th>InvoiceDate</th>\n",
       "      <th>Price</th>\n",
       "      <th>Customer ID</th>\n",
       "      <th>Country</th>\n",
       "      <th>Sales</th>\n",
       "    </tr>\n",
       "  </thead>\n",
       "  <tbody>\n",
       "    <tr>\n",
       "      <th>0</th>\n",
       "      <td>489434</td>\n",
       "      <td>85048</td>\n",
       "      <td>15CM CHRISTMAS GLASS BALL 20 LIGHTS</td>\n",
       "      <td>12</td>\n",
       "      <td>2009-12-01 07:45:00</td>\n",
       "      <td>6.95</td>\n",
       "      <td>13085.0</td>\n",
       "      <td>United Kingdom</td>\n",
       "      <td>83.4</td>\n",
       "    </tr>\n",
       "    <tr>\n",
       "      <th>1</th>\n",
       "      <td>489434</td>\n",
       "      <td>79323P</td>\n",
       "      <td>PINK CHERRY LIGHTS</td>\n",
       "      <td>12</td>\n",
       "      <td>2009-12-01 07:45:00</td>\n",
       "      <td>6.75</td>\n",
       "      <td>13085.0</td>\n",
       "      <td>United Kingdom</td>\n",
       "      <td>81.0</td>\n",
       "    </tr>\n",
       "    <tr>\n",
       "      <th>2</th>\n",
       "      <td>489434</td>\n",
       "      <td>79323W</td>\n",
       "      <td>WHITE CHERRY LIGHTS</td>\n",
       "      <td>12</td>\n",
       "      <td>2009-12-01 07:45:00</td>\n",
       "      <td>6.75</td>\n",
       "      <td>13085.0</td>\n",
       "      <td>United Kingdom</td>\n",
       "      <td>81.0</td>\n",
       "    </tr>\n",
       "    <tr>\n",
       "      <th>3</th>\n",
       "      <td>489434</td>\n",
       "      <td>22041</td>\n",
       "      <td>RECORD FRAME 7\" SINGLE SIZE</td>\n",
       "      <td>48</td>\n",
       "      <td>2009-12-01 07:45:00</td>\n",
       "      <td>2.10</td>\n",
       "      <td>13085.0</td>\n",
       "      <td>United Kingdom</td>\n",
       "      <td>100.8</td>\n",
       "    </tr>\n",
       "    <tr>\n",
       "      <th>4</th>\n",
       "      <td>489434</td>\n",
       "      <td>21232</td>\n",
       "      <td>STRAWBERRY CERAMIC TRINKET BOX</td>\n",
       "      <td>24</td>\n",
       "      <td>2009-12-01 07:45:00</td>\n",
       "      <td>1.25</td>\n",
       "      <td>13085.0</td>\n",
       "      <td>United Kingdom</td>\n",
       "      <td>30.0</td>\n",
       "    </tr>\n",
       "  </tbody>\n",
       "</table>\n",
       "</div>"
      ],
      "text/plain": [
       "  Invoice StockCode                          Description  Quantity  \\\n",
       "0  489434     85048  15CM CHRISTMAS GLASS BALL 20 LIGHTS        12   \n",
       "1  489434    79323P                   PINK CHERRY LIGHTS        12   \n",
       "2  489434    79323W                  WHITE CHERRY LIGHTS        12   \n",
       "3  489434     22041         RECORD FRAME 7\" SINGLE SIZE         48   \n",
       "4  489434     21232       STRAWBERRY CERAMIC TRINKET BOX        24   \n",
       "\n",
       "          InvoiceDate  Price Customer ID         Country  Sales  \n",
       "0 2009-12-01 07:45:00   6.95     13085.0  United Kingdom   83.4  \n",
       "1 2009-12-01 07:45:00   6.75     13085.0  United Kingdom   81.0  \n",
       "2 2009-12-01 07:45:00   6.75     13085.0  United Kingdom   81.0  \n",
       "3 2009-12-01 07:45:00   2.10     13085.0  United Kingdom  100.8  \n",
       "4 2009-12-01 07:45:00   1.25     13085.0  United Kingdom   30.0  "
      ]
     },
     "execution_count": 198,
     "metadata": {},
     "output_type": "execute_result"
    }
   ],
   "source": [
    "df['Sales'] = df['Quantity'] * df['Price']\n",
    "df.head()"
   ]
  },
  {
   "cell_type": "code",
   "execution_count": null,
   "id": "3b51d672-566c-4bcc-89f5-9f3d787069b6",
   "metadata": {
    "tags": []
   },
   "outputs": [],
   "source": [
    "df.to_csv('retail.csv')"
   ]
  },
  {
   "cell_type": "code",
   "execution_count": 448,
   "id": "56807a64-3832-4140-85c6-aff3dfc94a2d",
   "metadata": {
    "tags": []
   },
   "outputs": [
    {
     "data": {
      "text/plain": [
       "(779425, 9)"
      ]
     },
     "execution_count": 448,
     "metadata": {},
     "output_type": "execute_result"
    }
   ],
   "source": [
    "df.shape"
   ]
  },
  {
   "cell_type": "markdown",
   "id": "5376887f-0829-4cee-8933-7ec38b76a8f0",
   "metadata": {
    "tags": []
   },
   "source": [
    "## 3. Feature understanding"
   ]
  },
  {
   "cell_type": "markdown",
   "id": "23ca5030-93a3-46de-9f4e-69c0852c242a",
   "metadata": {},
   "source": [
    "In this section , we will focus on undertanding features from three aspects:\n",
    "- product\n",
    "- customer\n",
    "- location"
   ]
  },
  {
   "cell_type": "markdown",
   "id": "7741eeec-55d7-4ee8-af8e-ad073dbdd72a",
   "metadata": {},
   "source": [
    "### 3.1 Product"
   ]
  },
  {
   "cell_type": "code",
   "execution_count": 217,
   "id": "924d24da-de1a-4c08-a20b-947d46eb9785",
   "metadata": {
    "tags": []
   },
   "outputs": [
    {
     "name": "stdout",
     "output_type": "stream",
     "text": [
      "Total number of product:  5283\n",
      "The most popular product:  WHITE HANGING HEART T-LIGHT HOLDER    5016\n",
      "Name: Description, dtype: int64\n"
     ]
    },
    {
     "data": {
      "text/html": [
       "<div>\n",
       "<style scoped>\n",
       "    .dataframe tbody tr th:only-of-type {\n",
       "        vertical-align: middle;\n",
       "    }\n",
       "\n",
       "    .dataframe tbody tr th {\n",
       "        vertical-align: top;\n",
       "    }\n",
       "\n",
       "    .dataframe thead th {\n",
       "        text-align: right;\n",
       "    }\n",
       "</style>\n",
       "<table border=\"1\" class=\"dataframe\">\n",
       "  <thead>\n",
       "    <tr style=\"text-align: right;\">\n",
       "      <th></th>\n",
       "      <th>count</th>\n",
       "      <th>sum</th>\n",
       "    </tr>\n",
       "    <tr>\n",
       "      <th>Description</th>\n",
       "      <th></th>\n",
       "      <th></th>\n",
       "    </tr>\n",
       "  </thead>\n",
       "  <tbody>\n",
       "    <tr>\n",
       "      <th>REGENCY CAKESTAND 3 TIER</th>\n",
       "      <td>3335</td>\n",
       "      <td>277656.25</td>\n",
       "    </tr>\n",
       "    <tr>\n",
       "      <th>WHITE HANGING HEART T-LIGHT HOLDER</th>\n",
       "      <td>5016</td>\n",
       "      <td>247048.01</td>\n",
       "    </tr>\n",
       "    <tr>\n",
       "      <th>PAPER CRAFT , LITTLE BIRDIE</th>\n",
       "      <td>1</td>\n",
       "      <td>168469.60</td>\n",
       "    </tr>\n",
       "    <tr>\n",
       "      <th>Manual</th>\n",
       "      <td>681</td>\n",
       "      <td>151777.67</td>\n",
       "    </tr>\n",
       "    <tr>\n",
       "      <th>JUMBO BAG RED RETROSPOT</th>\n",
       "      <td>2641</td>\n",
       "      <td>134307.44</td>\n",
       "    </tr>\n",
       "  </tbody>\n",
       "</table>\n",
       "</div>"
      ],
      "text/plain": [
       "                                    count        sum\n",
       "Description                                         \n",
       "REGENCY CAKESTAND 3 TIER             3335  277656.25\n",
       "WHITE HANGING HEART T-LIGHT HOLDER   5016  247048.01\n",
       "PAPER CRAFT , LITTLE BIRDIE             1  168469.60\n",
       "Manual                                681  151777.67\n",
       "JUMBO BAG RED RETROSPOT              2641  134307.44"
      ]
     },
     "execution_count": 217,
     "metadata": {},
     "output_type": "execute_result"
    }
   ],
   "source": [
    "# Product number\n",
    "print(\"Total number of product: \",df['Description'].nunique())\n",
    "\n",
    "# What is the most popular product\n",
    "print(\"The most popular product: \",df['Description'].value_counts().head(1))\n",
    "\n",
    "# Which 5 product contributes the highst revenue\n",
    "df.groupby('Description')['Sales'] \\\n",
    "    .agg(['count','sum']) \\\n",
    "    .sort_values('sum', ascending=False) \\\n",
    "    .head()"
   ]
  },
  {
   "cell_type": "markdown",
   "id": "09a437d8-276d-4a99-9063-c68d578b75cf",
   "metadata": {},
   "source": [
    "### 3.2 Customer"
   ]
  },
  {
   "cell_type": "code",
   "execution_count": 228,
   "id": "e8db30b2-0f36-462c-9e0b-5336d7082729",
   "metadata": {
    "tags": []
   },
   "outputs": [
    {
     "name": "stdout",
     "output_type": "stream",
     "text": [
      "Total number of customer:  5878\n",
      "Average orders of each customer:  133.0\n"
     ]
    }
   ],
   "source": [
    "# Customer number \n",
    "print(\"Total number of customer: \",df['Customer ID'].nunique())\n",
    "\n",
    "# Average orders of each customer\n",
    "print(\"Average orders of each customer: \", df.groupby('Customer ID')['Invoice'].count().mean().round(0))"
   ]
  },
  {
   "cell_type": "markdown",
   "id": "24cb2d18-858d-4949-be2e-90d23b9f8f6b",
   "metadata": {},
   "source": [
    "### 3.3 Country"
   ]
  },
  {
   "cell_type": "code",
   "execution_count": 471,
   "id": "ef61a494-d8c5-4ef1-9550-f75d06eb9ff6",
   "metadata": {
    "tags": []
   },
   "outputs": [
    {
     "data": {
      "text/html": [
       "<div>\n",
       "<style scoped>\n",
       "    .dataframe tbody tr th:only-of-type {\n",
       "        vertical-align: middle;\n",
       "    }\n",
       "\n",
       "    .dataframe tbody tr th {\n",
       "        vertical-align: top;\n",
       "    }\n",
       "\n",
       "    .dataframe thead th {\n",
       "        text-align: right;\n",
       "    }\n",
       "</style>\n",
       "<table border=\"1\" class=\"dataframe\">\n",
       "  <thead>\n",
       "    <tr style=\"text-align: right;\">\n",
       "      <th></th>\n",
       "      <th>Invoice</th>\n",
       "      <th>Sales</th>\n",
       "    </tr>\n",
       "    <tr>\n",
       "      <th>Country</th>\n",
       "      <th></th>\n",
       "      <th></th>\n",
       "    </tr>\n",
       "  </thead>\n",
       "  <tbody>\n",
       "    <tr>\n",
       "      <th>United Kingdom</th>\n",
       "      <td>700388</td>\n",
       "      <td>14389234.92</td>\n",
       "    </tr>\n",
       "    <tr>\n",
       "      <th>EIRE</th>\n",
       "      <td>15565</td>\n",
       "      <td>616570.54</td>\n",
       "    </tr>\n",
       "    <tr>\n",
       "      <th>Netherlands</th>\n",
       "      <td>5085</td>\n",
       "      <td>554038.09</td>\n",
       "    </tr>\n",
       "    <tr>\n",
       "      <th>Germany</th>\n",
       "      <td>16432</td>\n",
       "      <td>425019.71</td>\n",
       "    </tr>\n",
       "    <tr>\n",
       "      <th>France</th>\n",
       "      <td>13511</td>\n",
       "      <td>348768.96</td>\n",
       "    </tr>\n",
       "  </tbody>\n",
       "</table>\n",
       "</div>"
      ],
      "text/plain": [
       "                Invoice       Sales\n",
       "Country                            \n",
       "United Kingdom   700388 14389234.92\n",
       "EIRE              15565   616570.54\n",
       "Netherlands        5085   554038.09\n",
       "Germany           16432   425019.71\n",
       "France            13511   348768.96"
      ]
     },
     "execution_count": 471,
     "metadata": {},
     "output_type": "execute_result"
    }
   ],
   "source": [
    "# The order distribution and sales distribution based on countries\n",
    "\n",
    "# Calculate the sales and orders of each country\n",
    "df.groupby('Country').agg({'Invoice':'count',\n",
    "                            'Sales':'sum'}) \\\n",
    "                            .sort_values('Sales',ascending=False).head()"
   ]
  },
  {
   "cell_type": "markdown",
   "id": "cbbf1a87-feef-44a8-a3c4-68d2a8f4b67a",
   "metadata": {
    "tags": []
   },
   "source": [
    "## 4. RFM model"
   ]
  },
  {
   "cell_type": "markdown",
   "id": "a8f6222b-9230-4c74-a298-5e5356f16049",
   "metadata": {},
   "source": [
    "### 4.1 Calculating RFM Metrics"
   ]
  },
  {
   "cell_type": "code",
   "execution_count": 279,
   "id": "1346bec5-52e2-41d2-a749-6c90ae0d2707",
   "metadata": {
    "tags": []
   },
   "outputs": [],
   "source": [
    "# Finding out the max datetime value\n",
    "df['InvoiceDate'].max()\n",
    "\n",
    "# Using last day +2 days as the last day of our reserch period to calculate recency\n",
    "end_date = dt.datetime(2011,12,11)"
   ]
  },
  {
   "cell_type": "code",
   "execution_count": 297,
   "id": "aec16fa1-2474-43b4-90f4-9a257b42215f",
   "metadata": {
    "tags": []
   },
   "outputs": [
    {
     "data": {
      "text/html": [
       "<div>\n",
       "<style scoped>\n",
       "    .dataframe tbody tr th:only-of-type {\n",
       "        vertical-align: middle;\n",
       "    }\n",
       "\n",
       "    .dataframe tbody tr th {\n",
       "        vertical-align: top;\n",
       "    }\n",
       "\n",
       "    .dataframe thead th {\n",
       "        text-align: right;\n",
       "    }\n",
       "</style>\n",
       "<table border=\"1\" class=\"dataframe\">\n",
       "  <thead>\n",
       "    <tr style=\"text-align: right;\">\n",
       "      <th></th>\n",
       "      <th>Recency</th>\n",
       "      <th>Frequency</th>\n",
       "      <th>Monetary</th>\n",
       "    </tr>\n",
       "    <tr>\n",
       "      <th>Customer ID</th>\n",
       "      <th></th>\n",
       "      <th></th>\n",
       "      <th></th>\n",
       "    </tr>\n",
       "  </thead>\n",
       "  <tbody>\n",
       "    <tr>\n",
       "      <th>12346.0</th>\n",
       "      <td>326</td>\n",
       "      <td>12</td>\n",
       "      <td>77556.46</td>\n",
       "    </tr>\n",
       "    <tr>\n",
       "      <th>12347.0</th>\n",
       "      <td>3</td>\n",
       "      <td>8</td>\n",
       "      <td>4921.53</td>\n",
       "    </tr>\n",
       "    <tr>\n",
       "      <th>12348.0</th>\n",
       "      <td>76</td>\n",
       "      <td>5</td>\n",
       "      <td>2019.40</td>\n",
       "    </tr>\n",
       "    <tr>\n",
       "      <th>12349.0</th>\n",
       "      <td>19</td>\n",
       "      <td>4</td>\n",
       "      <td>4428.69</td>\n",
       "    </tr>\n",
       "    <tr>\n",
       "      <th>12350.0</th>\n",
       "      <td>311</td>\n",
       "      <td>1</td>\n",
       "      <td>334.40</td>\n",
       "    </tr>\n",
       "  </tbody>\n",
       "</table>\n",
       "</div>"
      ],
      "text/plain": [
       "             Recency  Frequency  Monetary\n",
       "Customer ID                              \n",
       "12346.0          326         12  77556.46\n",
       "12347.0            3          8   4921.53\n",
       "12348.0           76          5   2019.40\n",
       "12349.0           19          4   4428.69\n",
       "12350.0          311          1    334.40"
      ]
     },
     "execution_count": 297,
     "metadata": {},
     "output_type": "execute_result"
    }
   ],
   "source": [
    "# For recency, we use the gap between the last day of research period and the latest purchase date of each customer\n",
    "# For frequency, we calculate the number of orders of each customer\n",
    "# For monetary, we calculate the total revenue of each customer\n",
    "\n",
    "rfm = df.groupby('Customer ID').agg({'InvoiceDate': lambda InvoiceDate: (end_date - InvoiceDate.max()).days,\n",
    "                                    'Invoice': lambda Invoice: Invoice.nunique(),\n",
    "                                    'Sales': lambda Sales: Sales.sum()})\n",
    "\n",
    "# Rename columns respectively\n",
    "rfm.columns = ['Recency','Frequency','Monetary']\n",
    "rfm.head()"
   ]
  },
  {
   "cell_type": "markdown",
   "id": "c1e91b17-6ecc-4cf8-8cef-2eb839320378",
   "metadata": {},
   "source": [
    "### 4.2 Remove outlier"
   ]
  },
  {
   "cell_type": "code",
   "execution_count": 281,
   "id": "4cabe4f5-a238-4091-af93-016beff2482b",
   "metadata": {
    "tags": []
   },
   "outputs": [
    {
     "data": {
      "text/html": [
       "<div>\n",
       "<style scoped>\n",
       "    .dataframe tbody tr th:only-of-type {\n",
       "        vertical-align: middle;\n",
       "    }\n",
       "\n",
       "    .dataframe tbody tr th {\n",
       "        vertical-align: top;\n",
       "    }\n",
       "\n",
       "    .dataframe thead th {\n",
       "        text-align: right;\n",
       "    }\n",
       "</style>\n",
       "<table border=\"1\" class=\"dataframe\">\n",
       "  <thead>\n",
       "    <tr style=\"text-align: right;\">\n",
       "      <th></th>\n",
       "      <th>count</th>\n",
       "      <th>mean</th>\n",
       "      <th>std</th>\n",
       "      <th>min</th>\n",
       "      <th>25%</th>\n",
       "      <th>50%</th>\n",
       "      <th>75%</th>\n",
       "      <th>max</th>\n",
       "    </tr>\n",
       "  </thead>\n",
       "  <tbody>\n",
       "    <tr>\n",
       "      <th>Recency</th>\n",
       "      <td>5878.0</td>\n",
       "      <td>201.866791</td>\n",
       "      <td>209.353961</td>\n",
       "      <td>1.00</td>\n",
       "      <td>26.00</td>\n",
       "      <td>96.00</td>\n",
       "      <td>380.000</td>\n",
       "      <td>739.00</td>\n",
       "    </tr>\n",
       "    <tr>\n",
       "      <th>Frequency</th>\n",
       "      <td>5878.0</td>\n",
       "      <td>6.289384</td>\n",
       "      <td>13.009406</td>\n",
       "      <td>1.00</td>\n",
       "      <td>1.00</td>\n",
       "      <td>3.00</td>\n",
       "      <td>7.000</td>\n",
       "      <td>398.00</td>\n",
       "    </tr>\n",
       "    <tr>\n",
       "      <th>Monetary</th>\n",
       "      <td>5878.0</td>\n",
       "      <td>2955.904095</td>\n",
       "      <td>14440.852688</td>\n",
       "      <td>2.95</td>\n",
       "      <td>342.28</td>\n",
       "      <td>867.74</td>\n",
       "      <td>2248.305</td>\n",
       "      <td>580987.04</td>\n",
       "    </tr>\n",
       "  </tbody>\n",
       "</table>\n",
       "</div>"
      ],
      "text/plain": [
       "            count         mean           std   min     25%     50%       75%  \\\n",
       "Recency    5878.0   201.866791    209.353961  1.00   26.00   96.00   380.000   \n",
       "Frequency  5878.0     6.289384     13.009406  1.00    1.00    3.00     7.000   \n",
       "Monetary   5878.0  2955.904095  14440.852688  2.95  342.28  867.74  2248.305   \n",
       "\n",
       "                 max  \n",
       "Recency       739.00  \n",
       "Frequency     398.00  \n",
       "Monetary   580987.04  "
      ]
     },
     "execution_count": 281,
     "metadata": {},
     "output_type": "execute_result"
    }
   ],
   "source": [
    "rfm.describe().T"
   ]
  },
  {
   "cell_type": "code",
   "execution_count": 390,
   "id": "96b02b5d-4122-4623-aaf9-613cd740d7c0",
   "metadata": {
    "tags": []
   },
   "outputs": [
    {
     "name": "stdout",
     "output_type": "stream",
     "text": [
      "Recency: \n"
     ]
    },
    {
     "data": {
      "image/png": "[encoded data removed]",
      "text/plain": [
       "<Figure size 640x480 with 1 Axes>"
      ]
     },
     "metadata": {},
     "output_type": "display_data"
    },
    {
     "name": "stdout",
     "output_type": "stream",
     "text": [
      "Frequency: \n"
     ]
    },
    {
     "data": {
      "image/png": "[encoded data removed]",
      "text/plain": [
       "<Figure size 640x480 with 1 Axes>"
      ]
     },
     "metadata": {},
     "output_type": "display_data"
    },
    {
     "name": "stdout",
     "output_type": "stream",
     "text": [
      "Monetary: \n"
     ]
    },
    {
     "data": {
      "image/png": "[encoded data removed]",
      "text/plain": [
       "<Figure size 640x480 with 1 Axes>"
      ]
     },
     "metadata": {},
     "output_type": "display_data"
    }
   ],
   "source": [
    "# To get a visual representation of outliers in the dataframe, we plot boxplot for all 3 variables\n",
    "for i in rfm.columns:\n",
    "    print(str(i)+': ')\n",
    "    ax = sns.boxplot(x=rfm[str(i)])\n",
    "    plt.show()"
   ]
  },
  {
   "cell_type": "markdown",
   "id": "55290dd9-ed39-4f97-b7b4-e88fdced3230",
   "metadata": {},
   "source": [
    "Observe that “recency” is the only variable with no visible outliers. “Frequency” and “monetary_value”, on the other hand, have many outliers that need to be removed before we proceed to build the model.To identify outliers, we will compute a measurement called a Z-Score. It tell us how far away from the mean a data point is.In this case we will remove the data with a Z-Score over 3, which means 3 standard deviations away from the mean value.\n",
    "\n",
    "71 records being removed"
   ]
  },
  {
   "cell_type": "code",
   "execution_count": 307,
   "id": "4f458a5e-a281-4604-a550-9587618c7128",
   "metadata": {
    "tags": []
   },
   "outputs": [
    {
     "data": {
      "text/html": [
       "<div>\n",
       "<style scoped>\n",
       "    .dataframe tbody tr th:only-of-type {\n",
       "        vertical-align: middle;\n",
       "    }\n",
       "\n",
       "    .dataframe tbody tr th {\n",
       "        vertical-align: top;\n",
       "    }\n",
       "\n",
       "    .dataframe thead th {\n",
       "        text-align: right;\n",
       "    }\n",
       "</style>\n",
       "<table border=\"1\" class=\"dataframe\">\n",
       "  <thead>\n",
       "    <tr style=\"text-align: right;\">\n",
       "      <th></th>\n",
       "      <th>Recency</th>\n",
       "      <th>Frequency</th>\n",
       "      <th>Monetary</th>\n",
       "    </tr>\n",
       "    <tr>\n",
       "      <th>Customer ID</th>\n",
       "      <th></th>\n",
       "      <th></th>\n",
       "      <th></th>\n",
       "    </tr>\n",
       "  </thead>\n",
       "  <tbody>\n",
       "    <tr>\n",
       "      <th>12347.0</th>\n",
       "      <td>3</td>\n",
       "      <td>8</td>\n",
       "      <td>4921.53</td>\n",
       "    </tr>\n",
       "    <tr>\n",
       "      <th>12348.0</th>\n",
       "      <td>76</td>\n",
       "      <td>5</td>\n",
       "      <td>2019.40</td>\n",
       "    </tr>\n",
       "    <tr>\n",
       "      <th>12349.0</th>\n",
       "      <td>19</td>\n",
       "      <td>4</td>\n",
       "      <td>4428.69</td>\n",
       "    </tr>\n",
       "    <tr>\n",
       "      <th>12350.0</th>\n",
       "      <td>311</td>\n",
       "      <td>1</td>\n",
       "      <td>334.40</td>\n",
       "    </tr>\n",
       "    <tr>\n",
       "      <th>12351.0</th>\n",
       "      <td>376</td>\n",
       "      <td>1</td>\n",
       "      <td>300.93</td>\n",
       "    </tr>\n",
       "    <tr>\n",
       "      <th>...</th>\n",
       "      <td>...</td>\n",
       "      <td>...</td>\n",
       "      <td>...</td>\n",
       "    </tr>\n",
       "    <tr>\n",
       "      <th>18283.0</th>\n",
       "      <td>4</td>\n",
       "      <td>22</td>\n",
       "      <td>2664.90</td>\n",
       "    </tr>\n",
       "    <tr>\n",
       "      <th>18284.0</th>\n",
       "      <td>432</td>\n",
       "      <td>1</td>\n",
       "      <td>461.68</td>\n",
       "    </tr>\n",
       "    <tr>\n",
       "      <th>18285.0</th>\n",
       "      <td>661</td>\n",
       "      <td>1</td>\n",
       "      <td>427.00</td>\n",
       "    </tr>\n",
       "    <tr>\n",
       "      <th>18286.0</th>\n",
       "      <td>477</td>\n",
       "      <td>2</td>\n",
       "      <td>1296.43</td>\n",
       "    </tr>\n",
       "    <tr>\n",
       "      <th>18287.0</th>\n",
       "      <td>43</td>\n",
       "      <td>7</td>\n",
       "      <td>4182.99</td>\n",
       "    </tr>\n",
       "  </tbody>\n",
       "</table>\n",
       "<p>5807 rows × 3 columns</p>\n",
       "</div>"
      ],
      "text/plain": [
       "             Recency  Frequency  Monetary\n",
       "Customer ID                              \n",
       "12347.0            3          8   4921.53\n",
       "12348.0           76          5   2019.40\n",
       "12349.0           19          4   4428.69\n",
       "12350.0          311          1    334.40\n",
       "12351.0          376          1    300.93\n",
       "...              ...        ...       ...\n",
       "18283.0            4         22   2664.90\n",
       "18284.0          432          1    461.68\n",
       "18285.0          661          1    427.00\n",
       "18286.0          477          2   1296.43\n",
       "18287.0           43          7   4182.99\n",
       "\n",
       "[5807 rows x 3 columns]"
      ]
     },
     "execution_count": 307,
     "metadata": {},
     "output_type": "execute_result"
    }
   ],
   "source": [
    "# Calculate z-scores for each column\n",
    "z_scores = np.abs(stats.zscore(rfm[['Recency', 'Frequency', 'Monetary']]))\n",
    "\n",
    "# Set the threshold for identifying outliers\n",
    "threshold = 3\n",
    "\n",
    "# Find outliers based on the threshold\n",
    "outlier = rfm[(z_scores > threshold).any(axis=1)]\n",
    "outlier\n",
    "\n",
    "# Remove outlier\n",
    "rfm = rfm[(z_scores < 3).all(axis=1)]\n",
    "rfm"
   ]
  },
  {
   "cell_type": "markdown",
   "id": "073b2ba2-6168-4884-a894-668648131074",
   "metadata": {},
   "source": [
    "### 4.3 Calculating RFM scores"
   ]
  },
  {
   "cell_type": "markdown",
   "id": "36629eee-ea9c-425c-a05d-ae467f33bacd",
   "metadata": {},
   "source": [
    "In the RFM model, customer segmentation is typically based on three key dimensions: Recency, Frequency, and Monetary value \\\n",
    "For each dimensions we divided behavior into 5 bins and rank them from 1-5, while 1 refers to the poorest performance and 5 represents the best performance"
   ]
  },
  {
   "cell_type": "code",
   "execution_count": 472,
   "id": "67beb307-c004-45e5-b82d-abf9826d8556",
   "metadata": {
    "tags": []
   },
   "outputs": [
    {
     "data": {
      "text/html": [
       "<div>\n",
       "<style scoped>\n",
       "    .dataframe tbody tr th:only-of-type {\n",
       "        vertical-align: middle;\n",
       "    }\n",
       "\n",
       "    .dataframe tbody tr th {\n",
       "        vertical-align: top;\n",
       "    }\n",
       "\n",
       "    .dataframe thead th {\n",
       "        text-align: right;\n",
       "    }\n",
       "</style>\n",
       "<table border=\"1\" class=\"dataframe\">\n",
       "  <thead>\n",
       "    <tr style=\"text-align: right;\">\n",
       "      <th></th>\n",
       "      <th>Recency</th>\n",
       "      <th>Frequency</th>\n",
       "      <th>Monetary</th>\n",
       "      <th>Recency_Score</th>\n",
       "      <th>Frequency_Score</th>\n",
       "      <th>Monetary_Score</th>\n",
       "      <th>RF_Score</th>\n",
       "    </tr>\n",
       "    <tr>\n",
       "      <th>Customer ID</th>\n",
       "      <th></th>\n",
       "      <th></th>\n",
       "      <th></th>\n",
       "      <th></th>\n",
       "      <th></th>\n",
       "      <th></th>\n",
       "      <th></th>\n",
       "    </tr>\n",
       "  </thead>\n",
       "  <tbody>\n",
       "    <tr>\n",
       "      <th>12347.0</th>\n",
       "      <td>3</td>\n",
       "      <td>8</td>\n",
       "      <td>4921.53</td>\n",
       "      <td>5</td>\n",
       "      <td>4</td>\n",
       "      <td>5</td>\n",
       "      <td>54</td>\n",
       "    </tr>\n",
       "    <tr>\n",
       "      <th>12348.0</th>\n",
       "      <td>76</td>\n",
       "      <td>5</td>\n",
       "      <td>2019.40</td>\n",
       "      <td>3</td>\n",
       "      <td>4</td>\n",
       "      <td>4</td>\n",
       "      <td>34</td>\n",
       "    </tr>\n",
       "    <tr>\n",
       "      <th>12349.0</th>\n",
       "      <td>19</td>\n",
       "      <td>4</td>\n",
       "      <td>4428.69</td>\n",
       "      <td>5</td>\n",
       "      <td>3</td>\n",
       "      <td>5</td>\n",
       "      <td>53</td>\n",
       "    </tr>\n",
       "    <tr>\n",
       "      <th>12350.0</th>\n",
       "      <td>311</td>\n",
       "      <td>1</td>\n",
       "      <td>334.40</td>\n",
       "      <td>2</td>\n",
       "      <td>1</td>\n",
       "      <td>2</td>\n",
       "      <td>21</td>\n",
       "    </tr>\n",
       "    <tr>\n",
       "      <th>12351.0</th>\n",
       "      <td>376</td>\n",
       "      <td>1</td>\n",
       "      <td>300.93</td>\n",
       "      <td>2</td>\n",
       "      <td>1</td>\n",
       "      <td>2</td>\n",
       "      <td>21</td>\n",
       "    </tr>\n",
       "    <tr>\n",
       "      <th>...</th>\n",
       "      <td>...</td>\n",
       "      <td>...</td>\n",
       "      <td>...</td>\n",
       "      <td>...</td>\n",
       "      <td>...</td>\n",
       "      <td>...</td>\n",
       "      <td>...</td>\n",
       "    </tr>\n",
       "    <tr>\n",
       "      <th>18283.0</th>\n",
       "      <td>4</td>\n",
       "      <td>22</td>\n",
       "      <td>2664.90</td>\n",
       "      <td>5</td>\n",
       "      <td>5</td>\n",
       "      <td>4</td>\n",
       "      <td>55</td>\n",
       "    </tr>\n",
       "    <tr>\n",
       "      <th>18284.0</th>\n",
       "      <td>432</td>\n",
       "      <td>1</td>\n",
       "      <td>461.68</td>\n",
       "      <td>1</td>\n",
       "      <td>2</td>\n",
       "      <td>2</td>\n",
       "      <td>12</td>\n",
       "    </tr>\n",
       "    <tr>\n",
       "      <th>18285.0</th>\n",
       "      <td>661</td>\n",
       "      <td>1</td>\n",
       "      <td>427.00</td>\n",
       "      <td>1</td>\n",
       "      <td>2</td>\n",
       "      <td>2</td>\n",
       "      <td>12</td>\n",
       "    </tr>\n",
       "    <tr>\n",
       "      <th>18286.0</th>\n",
       "      <td>477</td>\n",
       "      <td>2</td>\n",
       "      <td>1296.43</td>\n",
       "      <td>1</td>\n",
       "      <td>3</td>\n",
       "      <td>4</td>\n",
       "      <td>13</td>\n",
       "    </tr>\n",
       "    <tr>\n",
       "      <th>18287.0</th>\n",
       "      <td>43</td>\n",
       "      <td>7</td>\n",
       "      <td>4182.99</td>\n",
       "      <td>4</td>\n",
       "      <td>4</td>\n",
       "      <td>5</td>\n",
       "      <td>44</td>\n",
       "    </tr>\n",
       "  </tbody>\n",
       "</table>\n",
       "<p>5807 rows × 7 columns</p>\n",
       "</div>"
      ],
      "text/plain": [
       "             Recency  Frequency  Monetary Recency_Score Frequency_Score  \\\n",
       "Customer ID                                                               \n",
       "12347.0            3          8   4921.53             5               4   \n",
       "12348.0           76          5   2019.40             3               4   \n",
       "12349.0           19          4   4428.69             5               3   \n",
       "12350.0          311          1    334.40             2               1   \n",
       "12351.0          376          1    300.93             2               1   \n",
       "...              ...        ...       ...           ...             ...   \n",
       "18283.0            4         22   2664.90             5               5   \n",
       "18284.0          432          1    461.68             1               2   \n",
       "18285.0          661          1    427.00             1               2   \n",
       "18286.0          477          2   1296.43             1               3   \n",
       "18287.0           43          7   4182.99             4               4   \n",
       "\n",
       "            Monetary_Score RF_Score  \n",
       "Customer ID                          \n",
       "12347.0                  5       54  \n",
       "12348.0                  4       34  \n",
       "12349.0                  5       53  \n",
       "12350.0                  2       21  \n",
       "12351.0                  2       21  \n",
       "...                    ...      ...  \n",
       "18283.0                  4       55  \n",
       "18284.0                  2       12  \n",
       "18285.0                  2       12  \n",
       "18286.0                  4       13  \n",
       "18287.0                  5       44  \n",
       "\n",
       "[5807 rows x 7 columns]"
      ]
     },
     "execution_count": 472,
     "metadata": {},
     "output_type": "execute_result"
    }
   ],
   "source": [
    "rfm1 = rfm.copy()\n",
    "\n",
    "rfm1['Recency_Score'] = pd.qcut(rfm1['Recency'],5,labels=[5,4,3,2,1])\n",
    "rfm1['Frequency_Score'] = pd.qcut(rfm1['Frequency'].rank(method='first'),5,labels=[1,2,3,4,5])\n",
    "rfm1['Monetary_Score'] = pd.qcut(rfm1['Monetary'],5,labels=[1,2,3,4,5])\n",
    "\n",
    "# Here we use R score and F score as our segment score\n",
    "rfm1['RF_Score'] = rfm1['Recency_Score'].astype(str) + rfm1['Frequency_Score'].astype(str)\n",
    "rfm1"
   ]
  },
  {
   "cell_type": "markdown",
   "id": "5e3ae5a3-b168-4cfd-822c-45bbbb9b6cac",
   "metadata": {},
   "source": [
    "## 5. Customer segmentation"
   ]
  },
  {
   "attachments": {
    "0b889aa7-2675-4140-8ccc-2dc124820b80.png": {
     "image/png": "[encoded data removed]"
    }
   },
   "cell_type": "markdown",
   "id": "61435628-fe17-48c1-964e-66186c4800c0",
   "metadata": {
    "tags": []
   },
   "source": [
    "![image.png](attachment:0b889aa7-2675-4140-8ccc-2dc124820b80.png)"
   ]
  },
  {
   "cell_type": "code",
   "execution_count": 477,
   "id": "86e27341-55f6-4a77-8a86-cc6201125771",
   "metadata": {
    "tags": []
   },
   "outputs": [
    {
     "data": {
      "text/html": [
       "<div>\n",
       "<style scoped>\n",
       "    .dataframe tbody tr th:only-of-type {\n",
       "        vertical-align: middle;\n",
       "    }\n",
       "\n",
       "    .dataframe tbody tr th {\n",
       "        vertical-align: top;\n",
       "    }\n",
       "\n",
       "    .dataframe thead th {\n",
       "        text-align: right;\n",
       "    }\n",
       "</style>\n",
       "<table border=\"1\" class=\"dataframe\">\n",
       "  <thead>\n",
       "    <tr style=\"text-align: right;\">\n",
       "      <th></th>\n",
       "      <th>Recency</th>\n",
       "      <th>Frequency</th>\n",
       "      <th>Monetary</th>\n",
       "      <th>Recency_Score</th>\n",
       "      <th>Frequency_Score</th>\n",
       "      <th>Monetary_Score</th>\n",
       "      <th>RF_Score</th>\n",
       "      <th>segment</th>\n",
       "    </tr>\n",
       "    <tr>\n",
       "      <th>Customer ID</th>\n",
       "      <th></th>\n",
       "      <th></th>\n",
       "      <th></th>\n",
       "      <th></th>\n",
       "      <th></th>\n",
       "      <th></th>\n",
       "      <th></th>\n",
       "      <th></th>\n",
       "    </tr>\n",
       "  </thead>\n",
       "  <tbody>\n",
       "    <tr>\n",
       "      <th>12347.0</th>\n",
       "      <td>3</td>\n",
       "      <td>8</td>\n",
       "      <td>4921.53</td>\n",
       "      <td>5</td>\n",
       "      <td>4</td>\n",
       "      <td>5</td>\n",
       "      <td>54</td>\n",
       "      <td>champions</td>\n",
       "    </tr>\n",
       "    <tr>\n",
       "      <th>12348.0</th>\n",
       "      <td>76</td>\n",
       "      <td>5</td>\n",
       "      <td>2019.40</td>\n",
       "      <td>3</td>\n",
       "      <td>4</td>\n",
       "      <td>4</td>\n",
       "      <td>34</td>\n",
       "      <td>loyal_customers</td>\n",
       "    </tr>\n",
       "    <tr>\n",
       "      <th>12349.0</th>\n",
       "      <td>19</td>\n",
       "      <td>4</td>\n",
       "      <td>4428.69</td>\n",
       "      <td>5</td>\n",
       "      <td>3</td>\n",
       "      <td>5</td>\n",
       "      <td>53</td>\n",
       "      <td>potential_loyalists</td>\n",
       "    </tr>\n",
       "    <tr>\n",
       "      <th>12350.0</th>\n",
       "      <td>311</td>\n",
       "      <td>1</td>\n",
       "      <td>334.40</td>\n",
       "      <td>2</td>\n",
       "      <td>1</td>\n",
       "      <td>2</td>\n",
       "      <td>21</td>\n",
       "      <td>hibernating</td>\n",
       "    </tr>\n",
       "    <tr>\n",
       "      <th>12351.0</th>\n",
       "      <td>376</td>\n",
       "      <td>1</td>\n",
       "      <td>300.93</td>\n",
       "      <td>2</td>\n",
       "      <td>1</td>\n",
       "      <td>2</td>\n",
       "      <td>21</td>\n",
       "      <td>hibernating</td>\n",
       "    </tr>\n",
       "    <tr>\n",
       "      <th>12352.0</th>\n",
       "      <td>37</td>\n",
       "      <td>10</td>\n",
       "      <td>2849.84</td>\n",
       "      <td>4</td>\n",
       "      <td>5</td>\n",
       "      <td>5</td>\n",
       "      <td>45</td>\n",
       "      <td>loyal_customers</td>\n",
       "    </tr>\n",
       "    <tr>\n",
       "      <th>12353.0</th>\n",
       "      <td>205</td>\n",
       "      <td>2</td>\n",
       "      <td>406.76</td>\n",
       "      <td>2</td>\n",
       "      <td>2</td>\n",
       "      <td>2</td>\n",
       "      <td>22</td>\n",
       "      <td>hibernating</td>\n",
       "    </tr>\n",
       "    <tr>\n",
       "      <th>12354.0</th>\n",
       "      <td>233</td>\n",
       "      <td>1</td>\n",
       "      <td>1079.40</td>\n",
       "      <td>2</td>\n",
       "      <td>1</td>\n",
       "      <td>3</td>\n",
       "      <td>21</td>\n",
       "      <td>hibernating</td>\n",
       "    </tr>\n",
       "    <tr>\n",
       "      <th>12355.0</th>\n",
       "      <td>215</td>\n",
       "      <td>2</td>\n",
       "      <td>947.61</td>\n",
       "      <td>2</td>\n",
       "      <td>2</td>\n",
       "      <td>3</td>\n",
       "      <td>22</td>\n",
       "      <td>hibernating</td>\n",
       "    </tr>\n",
       "    <tr>\n",
       "      <th>12356.0</th>\n",
       "      <td>23</td>\n",
       "      <td>6</td>\n",
       "      <td>6371.73</td>\n",
       "      <td>4</td>\n",
       "      <td>4</td>\n",
       "      <td>5</td>\n",
       "      <td>44</td>\n",
       "      <td>loyal_customers</td>\n",
       "    </tr>\n",
       "  </tbody>\n",
       "</table>\n",
       "</div>"
      ],
      "text/plain": [
       "             Recency  Frequency  Monetary Recency_Score Frequency_Score  \\\n",
       "Customer ID                                                               \n",
       "12347.0            3          8   4921.53             5               4   \n",
       "12348.0           76          5   2019.40             3               4   \n",
       "12349.0           19          4   4428.69             5               3   \n",
       "12350.0          311          1    334.40             2               1   \n",
       "12351.0          376          1    300.93             2               1   \n",
       "12352.0           37         10   2849.84             4               5   \n",
       "12353.0          205          2    406.76             2               2   \n",
       "12354.0          233          1   1079.40             2               1   \n",
       "12355.0          215          2    947.61             2               2   \n",
       "12356.0           23          6   6371.73             4               4   \n",
       "\n",
       "            Monetary_Score RF_Score              segment  \n",
       "Customer ID                                               \n",
       "12347.0                  5       54            champions  \n",
       "12348.0                  4       34      loyal_customers  \n",
       "12349.0                  5       53  potential_loyalists  \n",
       "12350.0                  2       21          hibernating  \n",
       "12351.0                  2       21          hibernating  \n",
       "12352.0                  5       45      loyal_customers  \n",
       "12353.0                  2       22          hibernating  \n",
       "12354.0                  3       21          hibernating  \n",
       "12355.0                  3       22          hibernating  \n",
       "12356.0                  5       44      loyal_customers  "
      ]
     },
     "execution_count": 477,
     "metadata": {},
     "output_type": "execute_result"
    }
   ],
   "source": [
    "# Creating RFM Segments\n",
    "seg_map = {r'[1-2][1-2]': 'hibernating',\n",
    "           r'[1-2][3-4]': 'at_risk',\n",
    "           r'[1-2]5': 'cant_lose',\n",
    "           r'3[1-2]': 'about_to_sleep',\n",
    "           r'33': 'need_attention',\n",
    "           r'[3-4][4-5]': 'loyal_customers',\n",
    "           r'41': 'promising',\n",
    "           r'51': 'new_customers',\n",
    "           r'[4-5][2-3]': 'potential_loyalists',\n",
    "           r'[5][4-5]': 'champions'}\n",
    "\n",
    "# Mapping RFM segments to corresponding customers\n",
    "rfm1['segment'] = rfm1['RF_Score'].replace(seg_map, regex=True)\n",
    "rfm1.head(10)"
   ]
  },
  {
   "cell_type": "code",
   "execution_count": 478,
   "id": "b4bcd537-5c71-42ff-82d8-fd26d06f5dfe",
   "metadata": {
    "tags": []
   },
   "outputs": [
    {
     "data": {
      "text/html": [
       "<div>\n",
       "<style scoped>\n",
       "    .dataframe tbody tr th:only-of-type {\n",
       "        vertical-align: middle;\n",
       "    }\n",
       "\n",
       "    .dataframe tbody tr th {\n",
       "        vertical-align: top;\n",
       "    }\n",
       "\n",
       "    .dataframe thead tr th {\n",
       "        text-align: left;\n",
       "    }\n",
       "\n",
       "    .dataframe thead tr:last-of-type th {\n",
       "        text-align: right;\n",
       "    }\n",
       "</style>\n",
       "<table border=\"1\" class=\"dataframe\">\n",
       "  <thead>\n",
       "    <tr>\n",
       "      <th></th>\n",
       "      <th colspan=\"2\" halign=\"left\">Recency</th>\n",
       "      <th colspan=\"2\" halign=\"left\">Frequency</th>\n",
       "      <th colspan=\"2\" halign=\"left\">Monetary</th>\n",
       "    </tr>\n",
       "    <tr>\n",
       "      <th></th>\n",
       "      <th>count</th>\n",
       "      <th>mean</th>\n",
       "      <th>count</th>\n",
       "      <th>mean</th>\n",
       "      <th>count</th>\n",
       "      <th>mean</th>\n",
       "    </tr>\n",
       "    <tr>\n",
       "      <th>segment</th>\n",
       "      <th></th>\n",
       "      <th></th>\n",
       "      <th></th>\n",
       "      <th></th>\n",
       "      <th></th>\n",
       "      <th></th>\n",
       "    </tr>\n",
       "  </thead>\n",
       "  <tbody>\n",
       "    <tr>\n",
       "      <th>about_to_sleep</th>\n",
       "      <td>370</td>\n",
       "      <td>111.49</td>\n",
       "      <td>370</td>\n",
       "      <td>1.36</td>\n",
       "      <td>370</td>\n",
       "      <td>528.26</td>\n",
       "    </tr>\n",
       "    <tr>\n",
       "      <th>at_risk</th>\n",
       "      <td>745</td>\n",
       "      <td>377.18</td>\n",
       "      <td>745</td>\n",
       "      <td>3.82</td>\n",
       "      <td>745</td>\n",
       "      <td>1325.24</td>\n",
       "    </tr>\n",
       "    <tr>\n",
       "      <th>cant_lose</th>\n",
       "      <td>73</td>\n",
       "      <td>339.44</td>\n",
       "      <td>73</td>\n",
       "      <td>11.89</td>\n",
       "      <td>73</td>\n",
       "      <td>4512.44</td>\n",
       "    </tr>\n",
       "    <tr>\n",
       "      <th>champions</th>\n",
       "      <td>832</td>\n",
       "      <td>10.00</td>\n",
       "      <td>832</td>\n",
       "      <td>13.85</td>\n",
       "      <td>832</td>\n",
       "      <td>5401.29</td>\n",
       "    </tr>\n",
       "    <tr>\n",
       "      <th>hibernating</th>\n",
       "      <td>1500</td>\n",
       "      <td>461.79</td>\n",
       "      <td>1500</td>\n",
       "      <td>1.24</td>\n",
       "      <td>1500</td>\n",
       "      <td>425.23</td>\n",
       "    </tr>\n",
       "    <tr>\n",
       "      <th>loyal_customers</th>\n",
       "      <td>1140</td>\n",
       "      <td>70.63</td>\n",
       "      <td>1140</td>\n",
       "      <td>9.27</td>\n",
       "      <td>1140</td>\n",
       "      <td>3685.45</td>\n",
       "    </tr>\n",
       "    <tr>\n",
       "      <th>need_attention</th>\n",
       "      <td>264</td>\n",
       "      <td>117.73</td>\n",
       "      <td>264</td>\n",
       "      <td>3.08</td>\n",
       "      <td>264</td>\n",
       "      <td>1258.57</td>\n",
       "    </tr>\n",
       "    <tr>\n",
       "      <th>new_customers</th>\n",
       "      <td>59</td>\n",
       "      <td>11.85</td>\n",
       "      <td>59</td>\n",
       "      <td>1.00</td>\n",
       "      <td>59</td>\n",
       "      <td>354.71</td>\n",
       "    </tr>\n",
       "    <tr>\n",
       "      <th>potential_loyalists</th>\n",
       "      <td>707</td>\n",
       "      <td>26.91</td>\n",
       "      <td>707</td>\n",
       "      <td>2.55</td>\n",
       "      <td>707</td>\n",
       "      <td>895.46</td>\n",
       "    </tr>\n",
       "    <tr>\n",
       "      <th>promising</th>\n",
       "      <td>117</td>\n",
       "      <td>41.55</td>\n",
       "      <td>117</td>\n",
       "      <td>1.00</td>\n",
       "      <td>117</td>\n",
       "      <td>335.74</td>\n",
       "    </tr>\n",
       "  </tbody>\n",
       "</table>\n",
       "</div>"
      ],
      "text/plain": [
       "                    Recency        Frequency       Monetary        \n",
       "                      count   mean     count  mean    count    mean\n",
       "segment                                                            \n",
       "about_to_sleep          370 111.49       370  1.36      370  528.26\n",
       "at_risk                 745 377.18       745  3.82      745 1325.24\n",
       "cant_lose                73 339.44        73 11.89       73 4512.44\n",
       "champions               832  10.00       832 13.85      832 5401.29\n",
       "hibernating            1500 461.79      1500  1.24     1500  425.23\n",
       "loyal_customers        1140  70.63      1140  9.27     1140 3685.45\n",
       "need_attention          264 117.73       264  3.08      264 1258.57\n",
       "new_customers            59  11.85        59  1.00       59  354.71\n",
       "potential_loyalists     707  26.91       707  2.55      707  895.46\n",
       "promising               117  41.55       117  1.00      117  335.74"
      ]
     },
     "execution_count": 478,
     "metadata": {},
     "output_type": "execute_result"
    }
   ],
   "source": [
    "rfm1[['segment','Recency','Frequency','Monetary']].groupby('segment').agg(['count','mean'])"
   ]
  },
  {
   "cell_type": "markdown",
   "id": "35c4e904-7ab0-4e1d-bd7f-e013dfbb0495",
   "metadata": {},
   "source": [
    "### What is the proportion of each segmentation?"
   ]
  },
  {
   "cell_type": "code",
   "execution_count": 479,
   "id": "4a6d313c-9eff-4598-a38c-2e991a9aa3a6",
   "metadata": {
    "tags": []
   },
   "outputs": [
    {
     "data": {
      "image/png": "[encoded data removed]",
      "text/plain": [
       "<Figure size 1000x1000 with 1 Axes>"
      ]
     },
     "metadata": {},
     "output_type": "display_data"
    }
   ],
   "source": [
    "rfm1.groupby('segment')['segment']\\\n",
    "    .count()\\\n",
    "    .sort_values()\\\n",
    "    .plot(kind='pie',\n",
    "        figsize = (10, 10),\n",
    "        autopct = '%1.2f%%',\n",
    "        title='Customer Segmentation')\n",
    "\n",
    "plt.show()"
   ]
  },
  {
   "cell_type": "markdown",
   "id": "f826bd91-f773-4a87-a0a7-fe412aade8c6",
   "metadata": {},
   "source": [
    "### How much revenue does they generate"
   ]
  },
  {
   "cell_type": "code",
   "execution_count": 480,
   "id": "eb6aff66-74f5-47c6-b8cb-1caaf84ceb59",
   "metadata": {
    "tags": []
   },
   "outputs": [
    {
     "data": {
      "image/png": "[encoded data removed]",
      "text/plain": [
       "<Figure size 640x480 with 1 Axes>"
      ]
     },
     "metadata": {},
     "output_type": "display_data"
    }
   ],
   "source": [
    "ax = rfm1.groupby('segment')['Monetary'] \\\n",
    "    .sum() \\\n",
    "    .sort_values() \\\n",
    "    .plot(kind='barh',\n",
    "          title='Revenue by segmentation',\n",
    "          color='pink')\n",
    "\n",
    "\n",
    "ax.set_xlabel('Revenue',fontsize=10)\n",
    "ax.set_ylabel('')\n",
    "ax.set_xlim(0,5000000)\n",
    "ax.xaxis.set_major_formatter(ticker.EngFormatter())\n",
    "plt.show()"
   ]
  },
  {
   "cell_type": "markdown",
   "id": "cb47cdb1-0438-4010-8b47-c44066fbe01a",
   "metadata": {},
   "source": [
    "### How much is the average revenue per customer in each segmentation group"
   ]
  },
  {
   "cell_type": "markdown",
   "id": "6d05f153-b8b0-4aff-9e30-be3209e31106",
   "metadata": {
    "tags": []
   },
   "source": [
    "The more customers, the more revenue it tends to have. To eliminate this factor, we also calculate the average revenue of each group "
   ]
  },
  {
   "cell_type": "code",
   "execution_count": 482,
   "id": "90c41c00-2c86-4c3a-918a-87b423ceda09",
   "metadata": {
    "tags": []
   },
   "outputs": [
    {
     "data": {
      "image/png": "[encoded data removed]",
      "text/plain": [
       "<Figure size 640x480 with 1 Axes>"
      ]
     },
     "metadata": {},
     "output_type": "display_data"
    }
   ],
   "source": [
    "ax = rfm1.groupby('segment')['Monetary'] \\\n",
    "        .mean() \\\n",
    "        .sort_values() \\\n",
    "        .plot(kind='barh',title='AVG revenue by segmentation')\n",
    "\n",
    "\n",
    "ax.set_xlabel('AVG revenue',fontsize=10)\n",
    "ax.set_ylabel('')\n",
    "plt.show()"
   ]
  },
  {
   "cell_type": "markdown",
   "id": "6e840524-a244-4fe1-817f-bd69f3e3c8bf",
   "metadata": {},
   "source": [
    "## 6. Conclusion"
   ]
  },
  {
   "cell_type": "markdown",
   "id": "080113bc-a9cc-4610-aab6-b91255d938af",
   "metadata": {},
   "source": [
    "The RFM analysis reveals distinct customer segments, each offering unique opportunities and challenges for market strategy. \n",
    "- The largest segment, 'Hibernating Customers' (26%), requires re-engagement tactics to regain interest. \n",
    "- 'Loyal Customers' (19.63%) exhibit strong engagement and loyalty, benefiting from personalized communication and loyalty programs. \n",
    "- 'Champions' (14.33%) drive the most revenue, deserving exceptional service to maintain their loyalty. \n",
    "- Acquiring 'New Customers' (1.02%) is crucial for growth, necessitating targeted marketing and enticing offers."
   ]
  },
  {
   "cell_type": "markdown",
   "id": "8811e63d-ede8-4108-942f-3a6cb67c266b",
   "metadata": {},
   "source": [
    "### Limitation of the project"
   ]
  },
  {
   "cell_type": "markdown",
   "id": "80412038-8dc3-42dd-a27a-1e7ea3be8a60",
   "metadata": {},
   "source": [
    "In this project, customer segmentation is conducted based solely on Recency (R) and Frequency (F) dimensions, excluding Monetary (M). \n",
    "This approach aims to gauge customer loyalty. However, omitting monetary value overlooks revenue insights, limits identification of high-value customers. It may bias segmentation and lead to inperfect marketing strategies."
   ]
  },
  {
   "cell_type": "markdown",
   "id": "6c9c297b-6ece-4dc7-a812-3005ca60aadb",
   "metadata": {},
   "source": [
    "### Future analysis idea"
   ]
  },
  {
   "cell_type": "markdown",
   "id": "a193aaea-597c-4f0f-8ffb-1b136ecfba3e",
   "metadata": {},
   "source": [
    "Considering all three dimensions of the RFM model provides a more comprehensive understanding of customer behavior. I also did segmentations in mysql using the same dataset but calculate RFM score based on all three dimensions and in each dimension customer behaviour was divided into 4 bins. In total customers were divided into 8 groups. \n",
    "\n",
    "Moreover, we can also do basket analysis to see what products combination is the best, thus offer valuable insights to optimize product offerings, cross-selling strategies."
   ]
  }
 ],
 "metadata": {
  "kernelspec": {
   "display_name": "Python 3 (ipykernel)",
   "language": "python",
   "name": "python3"
  },
  "language_info": {
   "codemirror_mode": {
    "name": "ipython",
    "version": 3
   },
   "file_extension": ".py",
   "mimetype": "text/x-python",
   "name": "python",
   "nbconvert_exporter": "python",
   "pygments_lexer": "ipython3",
   "version": "3.11.3"
  }
 },
 "nbformat": 4,
 "nbformat_minor": 5
}
